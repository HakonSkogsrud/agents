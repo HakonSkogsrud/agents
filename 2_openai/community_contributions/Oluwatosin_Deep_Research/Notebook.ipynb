{
 "cells": [
  {
   "cell_type": "code",
   "execution_count": 30,
   "id": "b47c2277",
   "metadata": {},
   "outputs": [],
   "source": [
    "from dotenv import load_dotenv\n",
    "from agents import Agent, WebSearchTool, trace, Runner, gen_trace_id, function_tool\n",
    "from agents.model_settings import ModelSettings\n",
    "from pydantic import BaseModel\n",
    "import asyncio\n",
    "import sendgrid\n",
    "import os\n",
    "from sendgrid.helpers.mail import Mail, Email, To, From, content\n",
    "from typing import Dict\n",
    "from IPython.display  import display, Markdown"
   ]
  },
  {
   "cell_type": "code",
   "execution_count": null,
   "id": "7e54bca7",
   "metadata": {},
   "outputs": [
    {
     "data": {
      "text/plain": [
       "True"
      ]
     },
     "execution_count": 31,
     "metadata": {},
     "output_type": "execute_result"
    }
   ],
   "source": [
    "load_dotenv (override=True)"
   ]
  },
  {
   "cell_type": "markdown",
   "id": "a146ed58",
   "metadata": {},
   "source": [
    "## OpenAI Hosted Tools\n",
    "\n",
    "OpenAI Agents SDK includes the following hosted tools:\n",
    "\n",
    "The `WebSearchTool` lets an agent search the web.  \n",
    "The `FileSearchTool` allows retrieving information from your OpenAI Vector Stores.  \n",
    "The `ComputerTool` allows automating computer use tasks like taking screenshots and clicking.\n",
    "\n",
    "\n",
    "Costs are here: https://platform.openai.com/docs/pricing#web-search"
   ]
  },
  {
   "cell_type": "code",
   "execution_count": 41,
   "id": "4f8fabe7",
   "metadata": {},
   "outputs": [],
   "source": [
    "INSTRUCTIONS = \"You are a research assistant. Given a search term, you search the web for that term and \\\n",
    "produce a concise summary of the results. The summary must be 2-3 paragraphs and less than 300 \\\n",
    "words. Capture the main points. Write succintly, no need to have complete sentences or good \\\n",
    "grammar. This will be consumed by someone synthesizing a report, so it's vital you capture the \\\n",
    "essence and ignore any fluff. Do not include any additional commentary other than the summary itself\"\n",
    "\n",
    "search_agent = Agent(\n",
    "    name = \"search agent\",\n",
    "    instructions=INSTRUCTIONS,\n",
    "    model='gpt-4o-mini',\n",
    "    tools = [WebSearchTool(search_context_size=\"low\")],\n",
    "    model_settings=ModelSettings(tool_choice=\"required\")\n",
    "\n",
    ")"
   ]
  },
  {
   "cell_type": "code",
   "execution_count": 42,
   "id": "632aff92",
   "metadata": {},
   "outputs": [],
   "source": [
    "OPEN_AI_KEY = os.getenv(\"OPENAI_API_KEY\")"
   ]
  },
  {
   "cell_type": "code",
   "execution_count": 43,
   "id": "982817b3",
   "metadata": {},
   "outputs": [
    {
     "name": "stdout",
     "output_type": "stream",
     "text": [
      "Open AI key is found and starts with sk-proj-\n"
     ]
    }
   ],
   "source": [
    "if OPEN_AI_KEY:\n",
    "    print(f\"Open AI key is found and starts with {OPEN_AI_KEY[:8]}\")\n",
    "else:\n",
    "    print(f\"Open AI key is not found. Check env and docs\")\n"
   ]
  },
  {
   "cell_type": "code",
   "execution_count": 47,
   "id": "1e0bbe7c",
   "metadata": {},
   "outputs": [
    {
     "data": {
      "text/markdown": [
       "In 2025, several AI agent frameworks have emerged, each offering unique capabilities:\n",
       "\n",
       "- **Agent Lightning**: A flexible framework enabling reinforcement learning-based training of large language models (LLMs) for any AI agent. It decouples agent execution from training, allowing seamless integration with existing agents and handling complex interactions like multi-agent scenarios and dynamic workflows. ([arxiv.org](https://arxiv.org/abs/2508.03680?utm_source=openai))\n",
       "\n",
       "- **Cognitive Kernel-Pro**: An open-source, multi-module agent framework designed to democratize the development and evaluation of advanced AI agents. It focuses on curating high-quality training data across domains like web, file, code, and general reasoning, and introduces novel strategies for agent test-time reflection and voting to enhance robustness and performance. ([arxiv.org](https://arxiv.org/abs/2508.00414?utm_source=openai))\n",
       "\n",
       "- **LightAgent**: A lightweight yet powerful agentic framework that integrates core functionalities such as memory, tools, and tree of thought, while maintaining an extremely lightweight structure. As a fully open-source solution, it seamlessly integrates with mainstream chat platforms, enabling developers to easily build self-learning agents. ([arxiv.org](https://arxiv.org/abs/2509.09292?utm_source=openai))\n",
       "\n",
       "- **Kruti**: A multilingual AI agent and chatbot developed by the Indian company Ola Krutrim. It is designed to perform real-world tasks for users, such as booking taxis and ordering food, by integrating directly with various online services. It is notable for its ability to understand and respond in multiple Indian languages. ([en.wikipedia.org](https://en.wikipedia.org/wiki/Kruti?utm_source=openai))\n",
       "\n",
       "- **Model Context Protocol (MCP)**: An open standard introduced by Anthropic to standardize the way AI systems like LLMs integrate and share data with external tools, systems, and data sources. MCP provides a universal interface for reading files, executing functions, and handling contextual prompts, aiming to become a universal open standard for AI system connectivity and interoperability. ([en.wikipedia.org](https://en.wikipedia.org/wiki/Model_Context_Protocol?utm_source=openai))\n",
       "\n",
       "These frameworks reflect the rapid advancements in AI agent development, offering diverse tools and protocols to enhance the capabilities and integration of AI systems. "
      ],
      "text/plain": [
       "<IPython.core.display.Markdown object>"
      ]
     },
     "metadata": {},
     "output_type": "display_data"
    }
   ],
   "source": [
    "message = \"Latest AI Agent framweorks in 2025\"\n",
    "\n",
    "with trace(\"Latest Agentic AI framweork\"):\n",
    "    result = await Runner.run(search_agent, message)\n",
    "    \n",
    "    \n",
    "display(Markdown(result.final_output))\n",
    "\n"
   ]
  },
  {
   "cell_type": "markdown",
   "id": "e588412a",
   "metadata": {},
   "source": [
    "#### PLANNER AGENTS"
   ]
  },
  {
   "cell_type": "markdown",
   "id": "20553de8",
   "metadata": {},
   "source": [
    "Planner Agents - It will receive a query and come up with a handful of searches that it should run. Limiting the search to three for this purpose/prject due to costing"
   ]
  },
  {
   "cell_type": "code",
   "execution_count": null,
   "id": "b364fafd",
   "metadata": {},
   "outputs": [],
   "source": [
    "Number_of_Searches = 3\n",
    "#This is the number of searches it should run\n",
    "\n",
    "INSTRUCTIONS = f\"You are a helpful research assistant. Given a query , come up with a set of web services \\\n",
    "    to perform to best answer the query. Output {Number_of_Searches} terms to query for.\"\n",
    "\n",
    "class WebSearchItem(BaseModel):\n",
    "    reason:str\n",
    "    \"Your reasoning for why this search is important to the query\"\n",
    "\n",
    "\n",
    "    query:str\n",
    "    \"The search term to use for the web search\"\n",
    "\n",
    "\n",
    "class WebSearchPlan(BaseModel):\n",
    "\n",
    "    searches: list(WebSearchItem)\n",
    "    \"\"\"A list of web searches to perform to best answer the query.\"\"\"Agent\n",
    "\n",
    "\n",
    "\n",
    "\n",
    "planner_agent = Agent(\n",
    "    name = \"PlannerAgent\",\n",
    "    model=\"gpt-4o-mini\",\n",
    ")"
   ]
  }
 ],
 "metadata": {
  "kernelspec": {
   "display_name": ".venv",
   "language": "python",
   "name": "python3"
  },
  "language_info": {
   "codemirror_mode": {
    "name": "ipython",
    "version": 3
   },
   "file_extension": ".py",
   "mimetype": "text/x-python",
   "name": "python",
   "nbconvert_exporter": "python",
   "pygments_lexer": "ipython3",
   "version": "3.12.11"
  }
 },
 "nbformat": 4,
 "nbformat_minor": 5
}
